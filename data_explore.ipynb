{
 "cells": [
  {
   "cell_type": "markdown",
   "metadata": {},
   "source": [
    "## 基本信息"
   ]
  },
  {
   "cell_type": "code",
   "execution_count": 1,
   "metadata": {},
   "outputs": [],
   "source": [
    "import numpy as np # linear algebra\n",
    "import pandas as pd # data processing, CSV file I/O\n",
    "\n",
    "import matplotlib.pyplot as plt\n",
    "import seaborn as sns\n",
    "#color = sns.color_palette()\n",
    "\n",
    "%matplotlib inline"
   ]
  },
  {
   "cell_type": "code",
   "execution_count": 2,
   "metadata": {},
   "outputs": [
    {
     "data": {
      "text/html": [
       "<div>\n",
       "<style scoped>\n",
       "    .dataframe tbody tr th:only-of-type {\n",
       "        vertical-align: middle;\n",
       "    }\n",
       "\n",
       "    .dataframe tbody tr th {\n",
       "        vertical-align: top;\n",
       "    }\n",
       "\n",
       "    .dataframe thead th {\n",
       "        text-align: right;\n",
       "    }\n",
       "</style>\n",
       "<table border=\"1\" class=\"dataframe\">\n",
       "  <thead>\n",
       "    <tr style=\"text-align: right;\">\n",
       "      <th></th>\n",
       "      <th>x</th>\n",
       "      <th>y</th>\n",
       "      <th>2.1G(10)</th>\n",
       "      <th>2.1G(11)</th>\n",
       "      <th>2.1G(12)</th>\n",
       "      <th>2.1G(4)</th>\n",
       "      <th>2.1G(7)</th>\n",
       "      <th>2.1G(8)</th>\n",
       "      <th>3.5G(10)</th>\n",
       "      <th>3.5G(11)</th>\n",
       "      <th>3.5G(12)</th>\n",
       "      <th>3.5G(4)</th>\n",
       "      <th>3.5G(7)</th>\n",
       "      <th>3.5G(8)</th>\n",
       "    </tr>\n",
       "  </thead>\n",
       "  <tbody>\n",
       "    <tr>\n",
       "      <th>0</th>\n",
       "      <td>0</td>\n",
       "      <td>89</td>\n",
       "      <td>-126.23</td>\n",
       "      <td>-126.23</td>\n",
       "      <td>-126.23</td>\n",
       "      <td>-126.23</td>\n",
       "      <td>-126.23</td>\n",
       "      <td>-126.23</td>\n",
       "      <td>-126.23</td>\n",
       "      <td>-126.23</td>\n",
       "      <td>-126.23</td>\n",
       "      <td>-126.23</td>\n",
       "      <td>-126.23</td>\n",
       "      <td>-126.23</td>\n",
       "    </tr>\n",
       "    <tr>\n",
       "      <th>1</th>\n",
       "      <td>0</td>\n",
       "      <td>90</td>\n",
       "      <td>-126.23</td>\n",
       "      <td>-126.23</td>\n",
       "      <td>-126.23</td>\n",
       "      <td>-126.23</td>\n",
       "      <td>-126.23</td>\n",
       "      <td>-126.23</td>\n",
       "      <td>-126.23</td>\n",
       "      <td>-126.23</td>\n",
       "      <td>-126.23</td>\n",
       "      <td>-123.19</td>\n",
       "      <td>-126.23</td>\n",
       "      <td>-126.23</td>\n",
       "    </tr>\n",
       "    <tr>\n",
       "      <th>2</th>\n",
       "      <td>0</td>\n",
       "      <td>91</td>\n",
       "      <td>-126.23</td>\n",
       "      <td>-126.23</td>\n",
       "      <td>-126.23</td>\n",
       "      <td>-126.23</td>\n",
       "      <td>-126.23</td>\n",
       "      <td>-126.23</td>\n",
       "      <td>-126.23</td>\n",
       "      <td>-126.23</td>\n",
       "      <td>-126.23</td>\n",
       "      <td>-124.05</td>\n",
       "      <td>-126.23</td>\n",
       "      <td>-126.23</td>\n",
       "    </tr>\n",
       "    <tr>\n",
       "      <th>3</th>\n",
       "      <td>0</td>\n",
       "      <td>92</td>\n",
       "      <td>-126.23</td>\n",
       "      <td>-126.23</td>\n",
       "      <td>-126.23</td>\n",
       "      <td>-126.23</td>\n",
       "      <td>-126.23</td>\n",
       "      <td>-126.23</td>\n",
       "      <td>-126.23</td>\n",
       "      <td>-126.23</td>\n",
       "      <td>-126.23</td>\n",
       "      <td>-124.92</td>\n",
       "      <td>-126.23</td>\n",
       "      <td>-126.23</td>\n",
       "    </tr>\n",
       "    <tr>\n",
       "      <th>4</th>\n",
       "      <td>0</td>\n",
       "      <td>93</td>\n",
       "      <td>-126.23</td>\n",
       "      <td>-126.23</td>\n",
       "      <td>-126.23</td>\n",
       "      <td>-126.23</td>\n",
       "      <td>-126.23</td>\n",
       "      <td>-126.23</td>\n",
       "      <td>-126.23</td>\n",
       "      <td>-126.23</td>\n",
       "      <td>-126.23</td>\n",
       "      <td>-125.77</td>\n",
       "      <td>-126.23</td>\n",
       "      <td>-126.23</td>\n",
       "    </tr>\n",
       "  </tbody>\n",
       "</table>\n",
       "</div>"
      ],
      "text/plain": [
       "   x   y   2.1G(10)   2.1G(11)   2.1G(12)   2.1G(4)   2.1G(7)   2.1G(8)  \\\n",
       "0  0  89    -126.23    -126.23    -126.23   -126.23   -126.23   -126.23   \n",
       "1  0  90    -126.23    -126.23    -126.23   -126.23   -126.23   -126.23   \n",
       "2  0  91    -126.23    -126.23    -126.23   -126.23   -126.23   -126.23   \n",
       "3  0  92    -126.23    -126.23    -126.23   -126.23   -126.23   -126.23   \n",
       "4  0  93    -126.23    -126.23    -126.23   -126.23   -126.23   -126.23   \n",
       "\n",
       "    3.5G(10)   3.5G(11)   3.5G(12)   3.5G(4)   3.5G(7)   3.5G(8)  \n",
       "0    -126.23    -126.23    -126.23   -126.23   -126.23   -126.23  \n",
       "1    -126.23    -126.23    -126.23   -123.19   -126.23   -126.23  \n",
       "2    -126.23    -126.23    -126.23   -124.05   -126.23   -126.23  \n",
       "3    -126.23    -126.23    -126.23   -124.92   -126.23   -126.23  \n",
       "4    -126.23    -126.23    -126.23   -125.77   -126.23   -126.23  "
      ]
     },
     "execution_count": 2,
     "metadata": {},
     "output_type": "execute_result"
    }
   ],
   "source": [
    "# path to where the data lies\n",
    "#dpath = './data/'\n",
    "train_data = pd.read_csv(\"train.csv\")\n",
    "train_data.head()"
   ]
  },
  {
   "cell_type": "code",
   "execution_count": 3,
   "metadata": {},
   "outputs": [
    {
     "name": "stdout",
     "output_type": "stream",
     "text": [
      "<class 'pandas.core.frame.DataFrame'>\n",
      "RangeIndex: 25811 entries, 0 to 25810\n",
      "Data columns (total 14 columns):\n",
      "x            25811 non-null int64\n",
      " y           25811 non-null int64\n",
      " 2.1G(10)    25811 non-null float64\n",
      " 2.1G(11)    25811 non-null float64\n",
      " 2.1G(12)    25811 non-null float64\n",
      " 2.1G(4)     25811 non-null float64\n",
      " 2.1G(7)     25811 non-null float64\n",
      " 2.1G(8)     25811 non-null float64\n",
      " 3.5G(10)    25811 non-null float64\n",
      " 3.5G(11)    25811 non-null float64\n",
      " 3.5G(12)    25811 non-null float64\n",
      " 3.5G(4)     25811 non-null float64\n",
      " 3.5G(7)     25811 non-null float64\n",
      " 3.5G(8)     25811 non-null float64\n",
      "dtypes: float64(12), int64(2)\n",
      "memory usage: 2.8 MB\n"
     ]
    }
   ],
   "source": [
    "train_data.info()"
   ]
  },
  {
   "cell_type": "code",
   "execution_count": 4,
   "metadata": {},
   "outputs": [
    {
     "data": {
      "text/plain": [
       "x            0\n",
       " y           0\n",
       " 2.1G(10)    0\n",
       " 2.1G(11)    0\n",
       " 2.1G(12)    0\n",
       " 2.1G(4)     0\n",
       " 2.1G(7)     0\n",
       " 2.1G(8)     0\n",
       " 3.5G(10)    0\n",
       " 3.5G(11)    0\n",
       " 3.5G(12)    0\n",
       " 3.5G(4)     0\n",
       " 3.5G(7)     0\n",
       " 3.5G(8)     0\n",
       "dtype: int64"
      ]
     },
     "execution_count": 4,
     "metadata": {},
     "output_type": "execute_result"
    }
   ],
   "source": [
    "# 判断数据是否有空\n",
    "train_data.isnull().sum()"
   ]
  },
  {
   "cell_type": "code",
   "execution_count": 5,
   "metadata": {},
   "outputs": [
    {
     "data": {
      "text/html": [
       "<div>\n",
       "<style scoped>\n",
       "    .dataframe tbody tr th:only-of-type {\n",
       "        vertical-align: middle;\n",
       "    }\n",
       "\n",
       "    .dataframe tbody tr th {\n",
       "        vertical-align: top;\n",
       "    }\n",
       "\n",
       "    .dataframe thead th {\n",
       "        text-align: right;\n",
       "    }\n",
       "</style>\n",
       "<table border=\"1\" class=\"dataframe\">\n",
       "  <thead>\n",
       "    <tr style=\"text-align: right;\">\n",
       "      <th></th>\n",
       "      <th>x</th>\n",
       "      <th>y</th>\n",
       "      <th>2.1G(10)</th>\n",
       "      <th>2.1G(11)</th>\n",
       "      <th>2.1G(12)</th>\n",
       "      <th>2.1G(4)</th>\n",
       "      <th>2.1G(7)</th>\n",
       "      <th>2.1G(8)</th>\n",
       "      <th>3.5G(10)</th>\n",
       "      <th>3.5G(11)</th>\n",
       "      <th>3.5G(12)</th>\n",
       "      <th>3.5G(4)</th>\n",
       "      <th>3.5G(7)</th>\n",
       "      <th>3.5G(8)</th>\n",
       "    </tr>\n",
       "  </thead>\n",
       "  <tbody>\n",
       "    <tr>\n",
       "      <th>count</th>\n",
       "      <td>25811.000000</td>\n",
       "      <td>25811.00000</td>\n",
       "      <td>25811.000000</td>\n",
       "      <td>25811.000000</td>\n",
       "      <td>25811.000000</td>\n",
       "      <td>25811.000000</td>\n",
       "      <td>25811.000000</td>\n",
       "      <td>25811.000000</td>\n",
       "      <td>25811.000000</td>\n",
       "      <td>25811.000000</td>\n",
       "      <td>25811.000000</td>\n",
       "      <td>25811.000000</td>\n",
       "      <td>25811.000000</td>\n",
       "      <td>25811.000000</td>\n",
       "    </tr>\n",
       "    <tr>\n",
       "      <th>mean</th>\n",
       "      <td>163.681570</td>\n",
       "      <td>67.81752</td>\n",
       "      <td>-108.514127</td>\n",
       "      <td>-110.319527</td>\n",
       "      <td>-108.429769</td>\n",
       "      <td>-113.919070</td>\n",
       "      <td>-111.130266</td>\n",
       "      <td>-115.278602</td>\n",
       "      <td>-110.703393</td>\n",
       "      <td>-111.831349</td>\n",
       "      <td>-110.229334</td>\n",
       "      <td>-116.053418</td>\n",
       "      <td>-114.473973</td>\n",
       "      <td>-117.743432</td>\n",
       "    </tr>\n",
       "    <tr>\n",
       "      <th>std</th>\n",
       "      <td>98.400582</td>\n",
       "      <td>40.49610</td>\n",
       "      <td>22.781435</td>\n",
       "      <td>21.828645</td>\n",
       "      <td>20.995701</td>\n",
       "      <td>16.799755</td>\n",
       "      <td>17.442046</td>\n",
       "      <td>17.070073</td>\n",
       "      <td>21.891570</td>\n",
       "      <td>21.116508</td>\n",
       "      <td>20.403680</td>\n",
       "      <td>14.755977</td>\n",
       "      <td>16.940765</td>\n",
       "      <td>14.543601</td>\n",
       "    </tr>\n",
       "    <tr>\n",
       "      <th>min</th>\n",
       "      <td>0.000000</td>\n",
       "      <td>0.00000</td>\n",
       "      <td>-126.230000</td>\n",
       "      <td>-126.230000</td>\n",
       "      <td>-126.230000</td>\n",
       "      <td>-126.230000</td>\n",
       "      <td>-126.230000</td>\n",
       "      <td>-126.230000</td>\n",
       "      <td>-126.230000</td>\n",
       "      <td>-126.230000</td>\n",
       "      <td>-126.230000</td>\n",
       "      <td>-126.230000</td>\n",
       "      <td>-126.230000</td>\n",
       "      <td>-126.230000</td>\n",
       "    </tr>\n",
       "    <tr>\n",
       "      <th>25%</th>\n",
       "      <td>68.000000</td>\n",
       "      <td>35.00000</td>\n",
       "      <td>-126.230000</td>\n",
       "      <td>-126.230000</td>\n",
       "      <td>-126.230000</td>\n",
       "      <td>-126.230000</td>\n",
       "      <td>-126.230000</td>\n",
       "      <td>-126.230000</td>\n",
       "      <td>-126.230000</td>\n",
       "      <td>-126.230000</td>\n",
       "      <td>-126.230000</td>\n",
       "      <td>-126.230000</td>\n",
       "      <td>-126.230000</td>\n",
       "      <td>-126.230000</td>\n",
       "    </tr>\n",
       "    <tr>\n",
       "      <th>50%</th>\n",
       "      <td>181.000000</td>\n",
       "      <td>65.00000</td>\n",
       "      <td>-126.230000</td>\n",
       "      <td>-126.230000</td>\n",
       "      <td>-121.580000</td>\n",
       "      <td>-126.230000</td>\n",
       "      <td>-117.570000</td>\n",
       "      <td>-126.230000</td>\n",
       "      <td>-126.230000</td>\n",
       "      <td>-126.230000</td>\n",
       "      <td>-126.230000</td>\n",
       "      <td>-126.230000</td>\n",
       "      <td>-126.230000</td>\n",
       "      <td>-126.230000</td>\n",
       "    </tr>\n",
       "    <tr>\n",
       "      <th>75%</th>\n",
       "      <td>252.000000</td>\n",
       "      <td>99.00000</td>\n",
       "      <td>-85.190000</td>\n",
       "      <td>-90.545000</td>\n",
       "      <td>-91.030000</td>\n",
       "      <td>-103.830000</td>\n",
       "      <td>-97.320000</td>\n",
       "      <td>-107.935000</td>\n",
       "      <td>-90.715000</td>\n",
       "      <td>-96.420000</td>\n",
       "      <td>-94.310000</td>\n",
       "      <td>-106.910000</td>\n",
       "      <td>-101.755000</td>\n",
       "      <td>-112.515000</td>\n",
       "    </tr>\n",
       "    <tr>\n",
       "      <th>max</th>\n",
       "      <td>317.000000</td>\n",
       "      <td>156.00000</td>\n",
       "      <td>-54.140000</td>\n",
       "      <td>-54.320000</td>\n",
       "      <td>-54.160000</td>\n",
       "      <td>-67.390000</td>\n",
       "      <td>-67.410000</td>\n",
       "      <td>-67.430000</td>\n",
       "      <td>-53.700000</td>\n",
       "      <td>-53.710000</td>\n",
       "      <td>-53.690000</td>\n",
       "      <td>-74.830000</td>\n",
       "      <td>-68.550000</td>\n",
       "      <td>-74.790000</td>\n",
       "    </tr>\n",
       "  </tbody>\n",
       "</table>\n",
       "</div>"
      ],
      "text/plain": [
       "                  x            y      2.1G(10)      2.1G(11)      2.1G(12)  \\\n",
       "count  25811.000000  25811.00000  25811.000000  25811.000000  25811.000000   \n",
       "mean     163.681570     67.81752   -108.514127   -110.319527   -108.429769   \n",
       "std       98.400582     40.49610     22.781435     21.828645     20.995701   \n",
       "min        0.000000      0.00000   -126.230000   -126.230000   -126.230000   \n",
       "25%       68.000000     35.00000   -126.230000   -126.230000   -126.230000   \n",
       "50%      181.000000     65.00000   -126.230000   -126.230000   -121.580000   \n",
       "75%      252.000000     99.00000    -85.190000    -90.545000    -91.030000   \n",
       "max      317.000000    156.00000    -54.140000    -54.320000    -54.160000   \n",
       "\n",
       "            2.1G(4)       2.1G(7)       2.1G(8)      3.5G(10)      3.5G(11)  \\\n",
       "count  25811.000000  25811.000000  25811.000000  25811.000000  25811.000000   \n",
       "mean    -113.919070   -111.130266   -115.278602   -110.703393   -111.831349   \n",
       "std       16.799755     17.442046     17.070073     21.891570     21.116508   \n",
       "min     -126.230000   -126.230000   -126.230000   -126.230000   -126.230000   \n",
       "25%     -126.230000   -126.230000   -126.230000   -126.230000   -126.230000   \n",
       "50%     -126.230000   -117.570000   -126.230000   -126.230000   -126.230000   \n",
       "75%     -103.830000    -97.320000   -107.935000    -90.715000    -96.420000   \n",
       "max      -67.390000    -67.410000    -67.430000    -53.700000    -53.710000   \n",
       "\n",
       "           3.5G(12)       3.5G(4)       3.5G(7)       3.5G(8)  \n",
       "count  25811.000000  25811.000000  25811.000000  25811.000000  \n",
       "mean    -110.229334   -116.053418   -114.473973   -117.743432  \n",
       "std       20.403680     14.755977     16.940765     14.543601  \n",
       "min     -126.230000   -126.230000   -126.230000   -126.230000  \n",
       "25%     -126.230000   -126.230000   -126.230000   -126.230000  \n",
       "50%     -126.230000   -126.230000   -126.230000   -126.230000  \n",
       "75%      -94.310000   -106.910000   -101.755000   -112.515000  \n",
       "max      -53.690000    -74.830000    -68.550000    -74.790000  "
      ]
     },
     "execution_count": 5,
     "metadata": {},
     "output_type": "execute_result"
    }
   ],
   "source": [
    "## 各属性的统计特性\n",
    "train_data.describe()"
   ]
  },
  {
   "cell_type": "markdown",
   "metadata": {},
   "source": [
    "## 数据分布相关性探索"
   ]
  },
  {
   "cell_type": "code",
   "execution_count": 16,
   "metadata": {
    "scrolled": true
   },
   "outputs": [
    {
     "data": {
      "text/plain": [
       "' 2.1G(12)'"
      ]
     },
     "execution_count": 16,
     "metadata": {},
     "output_type": "execute_result"
    }
   ],
   "source": [
    "train_data.columns[4]"
   ]
  },
  {
   "cell_type": "code",
   "execution_count": 42,
   "metadata": {},
   "outputs": [
    {
     "data": {
      "text/plain": [
       "Text(0.5, 1.0, 'Histogram of Residuals')"
      ]
     },
     "execution_count": 42,
     "metadata": {},
     "output_type": "execute_result"
    },
    {
     "data": {
      "image/png": "[encoded data removed]",
      "text/plain": [
       "<Figure size 504x360 with 1 Axes>"
      ]
     },
     "metadata": {
      "needs_background": "light"
     },
     "output_type": "display_data"
    }
   ],
   "source": [
    "f, ax = plt.subplots(figsize=(7, 5)) \n",
    "f.tight_layout() \n",
    "ax.hist(train_data[' 2.1G(10)'].values,bins=40, label='Residuals Linear', color='b', alpha=.5); \n",
    "ax.set_title(\"Histogram of Residuals\") "
   ]
  },
  {
   "cell_type": "code",
   "execution_count": 24,
   "metadata": {},
   "outputs": [
    {
     "data": {
      "image/png": "[encoded data removed]",
      "text/plain": [
       "<Figure size 432x288 with 1 Axes>"
      ]
     },
     "metadata": {
      "needs_background": "light"
     },
     "output_type": "display_data"
    }
   ],
   "source": [
    "fig = plt.figure()\n",
    "sns.distplot(train_data[' 2.1G(10)'].values, bins=30, kde=True)\n",
    "plt.xlabel('registered value',fontsize = 12)\n",
    "plt.show()"
   ]
  },
  {
   "cell_type": "code",
   "execution_count": 45,
   "metadata": {},
   "outputs": [
    {
     "ename": "TypeError",
     "evalue": "subplots() takes from 0 to 7 positional arguments but 8 were given",
     "output_type": "error",
     "traceback": [
      "\u001b[1;31m---------------------------------------------------------------------------\u001b[0m",
      "\u001b[1;31mTypeError\u001b[0m                                 Traceback (most recent call last)",
      "\u001b[1;32m<ipython-input-45-62e43b0d30c1>\u001b[0m in \u001b[0;36m<module>\u001b[1;34m\u001b[0m\n\u001b[1;32m----> 1\u001b[1;33m \u001b[0mfig\u001b[0m\u001b[1;33m,\u001b[0m \u001b[0maxes\u001b[0m \u001b[1;33m=\u001b[0m \u001b[0mplt\u001b[0m\u001b[1;33m.\u001b[0m\u001b[0msubplots\u001b[0m\u001b[1;33m(\u001b[0m\u001b[1;36m1\u001b[0m\u001b[1;33m,\u001b[0m\u001b[1;36m2\u001b[0m\u001b[1;33m,\u001b[0m\u001b[1;36m3\u001b[0m\u001b[1;33m,\u001b[0m\u001b[1;36m4\u001b[0m\u001b[1;33m,\u001b[0m\u001b[1;36m5\u001b[0m\u001b[1;33m,\u001b[0m\u001b[1;36m6\u001b[0m\u001b[1;33m,\u001b[0m\u001b[1;36m7\u001b[0m\u001b[1;33m,\u001b[0m\u001b[1;36m8\u001b[0m \u001b[1;33m,\u001b[0m\u001b[0mfigsize\u001b[0m\u001b[1;33m=\u001b[0m\u001b[1;33m(\u001b[0m\u001b[1;36m7\u001b[0m\u001b[1;33m,\u001b[0m \u001b[1;36m5\u001b[0m\u001b[1;33m)\u001b[0m\u001b[1;33m)\u001b[0m\u001b[1;33m\u001b[0m\u001b[1;33m\u001b[0m\u001b[0m\n\u001b[0m\u001b[0;32m      2\u001b[0m \u001b[0mfig\u001b[0m\u001b[1;33m.\u001b[0m\u001b[0mtight_layout\u001b[0m\u001b[1;33m(\u001b[0m\u001b[1;33m)\u001b[0m\u001b[1;33m\u001b[0m\u001b[1;33m\u001b[0m\u001b[0m\n\u001b[0;32m      3\u001b[0m \u001b[1;33m\u001b[0m\u001b[0m\n\u001b[0;32m      4\u001b[0m \u001b[1;32mfor\u001b[0m \u001b[0mcolumn_index\u001b[0m\u001b[1;33m,\u001b[0m \u001b[0max\u001b[0m \u001b[1;32min\u001b[0m \u001b[0menumerate\u001b[0m\u001b[1;33m(\u001b[0m\u001b[0maxes\u001b[0m\u001b[1;33m)\u001b[0m\u001b[1;33m:\u001b[0m\u001b[1;33m\u001b[0m\u001b[1;33m\u001b[0m\u001b[0m\n\u001b[0;32m      5\u001b[0m     \u001b[0mcolumn\u001b[0m \u001b[1;33m=\u001b[0m \u001b[0mtrain_data\u001b[0m\u001b[1;33m.\u001b[0m\u001b[0mcolumns\u001b[0m\u001b[1;33m[\u001b[0m\u001b[0mcolumn_index\u001b[0m \u001b[1;33m+\u001b[0m \u001b[1;36m2\u001b[0m\u001b[1;33m]\u001b[0m\u001b[1;33m\u001b[0m\u001b[1;33m\u001b[0m\u001b[0m\n",
      "\u001b[1;31mTypeError\u001b[0m: subplots() takes from 0 to 7 positional arguments but 8 were given"
     ]
    }
   ],
   "source": [
    "fig, axes = plt.subplots(1,2,3,4,5,6,7,8 ,figsize=(7, 5))\n",
    "fig.tight_layout()\n",
    "\n",
    "for column_index, ax in enumerate(axes):\n",
    "    column = train_data.columns[column_index + 2]    \n",
    "    axes.hist(train_data[column].values,bins=40, label='Residuals Linear', color='b', alpha=.5); \n",
    "    ax.set_title(\"频率分布图\")\n",
    "\n",
    "plt.show()\n",
    "    "
   ]
  },
  {
   "cell_type": "code",
   "execution_count": null,
   "metadata": {},
   "outputs": [],
   "source": []
  }
 ],
 "metadata": {
  "kernelspec": {
   "display_name": "Python 3",
   "language": "python",
   "name": "python3"
  },
  "language_info": {
   "codemirror_mode": {
    "name": "ipython",
    "version": 3
   },
   "file_extension": ".py",
   "mimetype": "text/x-python",
   "name": "python",
   "nbconvert_exporter": "python",
   "pygments_lexer": "ipython3",
   "version": "3.7.3"
  },
  "toc": {
   "base_numbering": 1,
   "nav_menu": {},
   "number_sections": true,
   "sideBar": true,
   "skip_h1_title": false,
   "title_cell": "Table of Contents",
   "title_sidebar": "Contents",
   "toc_cell": false,
   "toc_position": {},
   "toc_section_display": true,
   "toc_window_display": true
  }
 },
 "nbformat": 4,
 "nbformat_minor": 2
}
